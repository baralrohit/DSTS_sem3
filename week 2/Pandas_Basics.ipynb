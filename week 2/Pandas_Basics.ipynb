<!DOCTYPE html>
<html>
<head>
<title>Page Title</title>
</head>
<body>

<h1>This is a Heading</h1>
<p>This is a paragraph.</p>

<h3>AR/VR for Data Analysis and Communication</h3>
<p>This is another paragraph.</p>

<img src="pic_trulli.jpg" width="550" height="400">

</body>
</html>


