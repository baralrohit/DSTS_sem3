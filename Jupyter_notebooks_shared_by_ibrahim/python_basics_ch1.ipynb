{
 "cells": [
  {
   "cell_type": "markdown",
   "id": "18a7d70f",
   "metadata": {},
   "source": [
    "# Automate the boring Stuff with Python\n",
    "## Chapter 1\n",
    "### Ibrahim Radwan"
   ]
  },
  {
   "cell_type": "code",
   "execution_count": null,
   "id": "c8b111f4",
   "metadata": {},
   "outputs": [],
   "source": [
    "# Expressions\n",
    "print(2 + 2) # addition\n",
    "print(2 + 3 * 6) # order of operations\n",
    "print(2 ** 8) # exponent\n",
    "print(23 / 7) # division\n",
    "print(23 // 7) # integral division\n",
    "print(23 % 7) # modulus"
   ]
  },
  {
   "cell_type": "code",
   "execution_count": null,
   "id": "8a0b6d64",
   "metadata": {},
   "outputs": [],
   "source": [
    "print(42 + 5 + * 2) # this will give an error"
   ]
  },
  {
   "cell_type": "markdown",
   "id": "32fa89c5",
   "metadata": {},
   "source": [
    "### Integer, Floating-Point, and String Data Types\n",
    "### Please check the following table for examples of each data type\n",
    "<img src=\"images/ch1_1.PNG\">"
   ]
  },
  {
   "cell_type": "code",
   "execution_count": null,
   "id": "ebc2ba15",
   "metadata": {},
   "outputs": [],
   "source": [
    "# String Concatenation and Replication\n",
    "print('Alice' + 'Bob') # concatenation \n",
    "print('Alice' * 5) # repeating\n",
    "print('Alice' + 42) # a syntax error, how to fix it?"
   ]
  },
  {
   "cell_type": "code",
   "execution_count": null,
   "id": "4e89c562",
   "metadata": {},
   "outputs": [],
   "source": [
    "# assignment statements\n",
    "greeting = \"Hello\"\n",
    "greeting"
   ]
  },
  {
   "cell_type": "markdown",
   "id": "d30c90d2",
   "metadata": {},
   "source": [
    "## valid and Invalid variable names\n",
    "### please check the following table:\n",
    "<img src=\"images/ch1_2.PNG\">"
   ]
  },
  {
   "cell_type": "markdown",
   "id": "59dcec9f",
   "metadata": {},
   "source": [
    "## First program -- User input"
   ]
  },
  {
   "cell_type": "code",
   "execution_count": null,
   "id": "96b3f46f",
   "metadata": {},
   "outputs": [],
   "source": [
    "# This program says hello and asks for my name.\n",
    "print('Hello, world!')\n",
    "print('What is your name?') # ask for their name\n",
    "myName = input() # this is the main function for user input\n",
    "print('It is good to meet you, ' + myName)\n",
    "print('The length of your name is:')\n",
    "print(len(myName))\n",
    "print('What is your age?') # ask for their age\n",
    "myAge = input()\n",
    "print('You will be ' + str(int(myAge) + 1) + ' in a year.')"
   ]
  },
  {
   "cell_type": "code",
   "execution_count": null,
   "id": "6cb440ac",
   "metadata": {},
   "outputs": [],
   "source": []
  }
 ],
 "metadata": {
  "kernelspec": {
   "display_name": "Python 3",
   "language": "python",
   "name": "python3"
  },
  "language_info": {
   "codemirror_mode": {
    "name": "ipython",
    "version": 3
   },
   "file_extension": ".py",
   "mimetype": "text/x-python",
   "name": "python",
   "nbconvert_exporter": "python",
   "pygments_lexer": "ipython3",
   "version": "3.8.8"
  }
 },
 "nbformat": 4,
 "nbformat_minor": 5
}
